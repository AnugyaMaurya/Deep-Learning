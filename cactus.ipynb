{
  "nbformat": 4,
  "nbformat_minor": 0,
  "metadata": {
    "colab": {
      "provenance": [],
      "gpuType": "T4"
    },
    "kernelspec": {
      "name": "python3",
      "display_name": "Python 3"
    },
    "language_info": {
      "name": "python"
    },
    "accelerator": "GPU"
  },
  "cells": [
    {
      "cell_type": "code",
      "execution_count": null,
      "metadata": {
        "id": "IxRkGs4o5NAz"
      },
      "outputs": [],
      "source": [
        "import pandas as pd\n",
        "import numpy as np\n",
        "import matplotlib.pyplot as plt\n",
        "import cv2, os\n",
        "import tensorflow as tf\n",
        "from tensorflow.keras.applications import VGG16\n"
      ]
    },
    {
      "cell_type": "code",
      "source": [
        "! mkdir -p /root/.kaggle\n",
        "! mv kaggle.json /root/.kaggle\n",
        "import kaggle"
      ],
      "metadata": {
        "colab": {
          "base_uri": "https://localhost:8080/"
        },
        "id": "mbxuwcTV5T5-",
        "outputId": "5de29a20-f790-4ac0-f712-9abb9a1ac4c9"
      },
      "execution_count": null,
      "outputs": [
        {
          "output_type": "stream",
          "name": "stdout",
          "text": [
            "Warning: Your Kaggle API key is readable by other users on this system! To fix this, you can run 'chmod 600 /root/.kaggle/kaggle.json'\n"
          ]
        }
      ]
    },
    {
      "cell_type": "code",
      "source": [
        "!kaggle competitions download -c aerial-cactus-identification"
      ],
      "metadata": {
        "colab": {
          "base_uri": "https://localhost:8080/"
        },
        "id": "IX0q6mUP5lZl",
        "outputId": "0d6c17cc-6455-4bd0-909d-41e137857647"
      },
      "execution_count": null,
      "outputs": [
        {
          "output_type": "stream",
          "name": "stdout",
          "text": [
            "Warning: Your Kaggle API key is readable by other users on this system! To fix this, you can run 'chmod 600 /root/.kaggle/kaggle.json'\n",
            "Downloading aerial-cactus-identification.zip to /content\n",
            " 75% 9.00M/12.0M [00:00<00:00, 70.1MB/s]\n",
            "100% 12.0M/12.0M [00:00<00:00, 83.9MB/s]\n"
          ]
        }
      ]
    },
    {
      "cell_type": "code",
      "source": [
        "! unzip -q aerial-cactus-identification.zip"
      ],
      "metadata": {
        "id": "tf5A7dEr5rSg"
      },
      "execution_count": null,
      "outputs": []
    },
    {
      "cell_type": "code",
      "source": [
        "! rm -rvf test sample_submission.csv"
      ],
      "metadata": {
        "colab": {
          "base_uri": "https://localhost:8080/"
        },
        "id": "ghn89uQ_54eY",
        "outputId": "cd52fbc7-7639-4cfa-814d-29f466cf354f"
      },
      "execution_count": null,
      "outputs": [
        {
          "output_type": "stream",
          "name": "stdout",
          "text": [
            "removed 'sample_submission.csv'\n"
          ]
        }
      ]
    },
    {
      "cell_type": "code",
      "source": [
        "! unzip -q train.zip"
      ],
      "metadata": {
        "id": "Q5qIdqLJIqVa"
      },
      "execution_count": null,
      "outputs": []
    },
    {
      "cell_type": "code",
      "source": [
        "! unzip -q test.zip"
      ],
      "metadata": {
        "id": "Iz1WIY6TOILm"
      },
      "execution_count": null,
      "outputs": []
    },
    {
      "cell_type": "code",
      "source": [
        "data = pd.read_csv(\"train.csv\")"
      ],
      "metadata": {
        "id": "eid9fvjO59vJ"
      },
      "execution_count": null,
      "outputs": []
    },
    {
      "cell_type": "code",
      "source": [
        "data"
      ],
      "metadata": {
        "colab": {
          "base_uri": "https://localhost:8080/",
          "height": 424
        },
        "id": "Gen-Y6Al6RSr",
        "outputId": "8f0829da-e986-424c-eb95-ccfe7010d9e0"
      },
      "execution_count": null,
      "outputs": [
        {
          "output_type": "execute_result",
          "data": {
            "text/plain": [
              "                                         id  has_cactus\n",
              "0      0004be2cfeaba1c0361d39e2b000257b.jpg           1\n",
              "1      000c8a36845c0208e833c79c1bffedd1.jpg           1\n",
              "2      000d1e9a533f62e55c289303b072733d.jpg           1\n",
              "3      0011485b40695e9138e92d0b3fb55128.jpg           1\n",
              "4      0014d7a11e90b62848904c1418fc8cf2.jpg           1\n",
              "...                                     ...         ...\n",
              "17495  ffede47a74e47a5930f81c0b6896479e.jpg           0\n",
              "17496  ffef6382a50d23251d4bc05519c91037.jpg           1\n",
              "17497  fff059ecc91b30be5745e8b81111dc7b.jpg           1\n",
              "17498  fff43acb3b7a23edcc4ae937be2b7522.jpg           0\n",
              "17499  fffd9e9b990eba07c836745d8aef1a3a.jpg           1\n",
              "\n",
              "[17500 rows x 2 columns]"
            ],
            "text/html": [
              "\n",
              "\n",
              "  <div id=\"df-8e9e455d-3f9b-4666-89b6-34e0cf82b56d\">\n",
              "    <div class=\"colab-df-container\">\n",
              "      <div>\n",
              "<style scoped>\n",
              "    .dataframe tbody tr th:only-of-type {\n",
              "        vertical-align: middle;\n",
              "    }\n",
              "\n",
              "    .dataframe tbody tr th {\n",
              "        vertical-align: top;\n",
              "    }\n",
              "\n",
              "    .dataframe thead th {\n",
              "        text-align: right;\n",
              "    }\n",
              "</style>\n",
              "<table border=\"1\" class=\"dataframe\">\n",
              "  <thead>\n",
              "    <tr style=\"text-align: right;\">\n",
              "      <th></th>\n",
              "      <th>id</th>\n",
              "      <th>has_cactus</th>\n",
              "    </tr>\n",
              "  </thead>\n",
              "  <tbody>\n",
              "    <tr>\n",
              "      <th>0</th>\n",
              "      <td>0004be2cfeaba1c0361d39e2b000257b.jpg</td>\n",
              "      <td>1</td>\n",
              "    </tr>\n",
              "    <tr>\n",
              "      <th>1</th>\n",
              "      <td>000c8a36845c0208e833c79c1bffedd1.jpg</td>\n",
              "      <td>1</td>\n",
              "    </tr>\n",
              "    <tr>\n",
              "      <th>2</th>\n",
              "      <td>000d1e9a533f62e55c289303b072733d.jpg</td>\n",
              "      <td>1</td>\n",
              "    </tr>\n",
              "    <tr>\n",
              "      <th>3</th>\n",
              "      <td>0011485b40695e9138e92d0b3fb55128.jpg</td>\n",
              "      <td>1</td>\n",
              "    </tr>\n",
              "    <tr>\n",
              "      <th>4</th>\n",
              "      <td>0014d7a11e90b62848904c1418fc8cf2.jpg</td>\n",
              "      <td>1</td>\n",
              "    </tr>\n",
              "    <tr>\n",
              "      <th>...</th>\n",
              "      <td>...</td>\n",
              "      <td>...</td>\n",
              "    </tr>\n",
              "    <tr>\n",
              "      <th>17495</th>\n",
              "      <td>ffede47a74e47a5930f81c0b6896479e.jpg</td>\n",
              "      <td>0</td>\n",
              "    </tr>\n",
              "    <tr>\n",
              "      <th>17496</th>\n",
              "      <td>ffef6382a50d23251d4bc05519c91037.jpg</td>\n",
              "      <td>1</td>\n",
              "    </tr>\n",
              "    <tr>\n",
              "      <th>17497</th>\n",
              "      <td>fff059ecc91b30be5745e8b81111dc7b.jpg</td>\n",
              "      <td>1</td>\n",
              "    </tr>\n",
              "    <tr>\n",
              "      <th>17498</th>\n",
              "      <td>fff43acb3b7a23edcc4ae937be2b7522.jpg</td>\n",
              "      <td>0</td>\n",
              "    </tr>\n",
              "    <tr>\n",
              "      <th>17499</th>\n",
              "      <td>fffd9e9b990eba07c836745d8aef1a3a.jpg</td>\n",
              "      <td>1</td>\n",
              "    </tr>\n",
              "  </tbody>\n",
              "</table>\n",
              "<p>17500 rows × 2 columns</p>\n",
              "</div>\n",
              "      <button class=\"colab-df-convert\" onclick=\"convertToInteractive('df-8e9e455d-3f9b-4666-89b6-34e0cf82b56d')\"\n",
              "              title=\"Convert this dataframe to an interactive table.\"\n",
              "              style=\"display:none;\">\n",
              "\n",
              "  <svg xmlns=\"http://www.w3.org/2000/svg\" height=\"24px\"viewBox=\"0 0 24 24\"\n",
              "       width=\"24px\">\n",
              "    <path d=\"M0 0h24v24H0V0z\" fill=\"none\"/>\n",
              "    <path d=\"M18.56 5.44l.94 2.06.94-2.06 2.06-.94-2.06-.94-.94-2.06-.94 2.06-2.06.94zm-11 1L8.5 8.5l.94-2.06 2.06-.94-2.06-.94L8.5 2.5l-.94 2.06-2.06.94zm10 10l.94 2.06.94-2.06 2.06-.94-2.06-.94-.94-2.06-.94 2.06-2.06.94z\"/><path d=\"M17.41 7.96l-1.37-1.37c-.4-.4-.92-.59-1.43-.59-.52 0-1.04.2-1.43.59L10.3 9.45l-7.72 7.72c-.78.78-.78 2.05 0 2.83L4 21.41c.39.39.9.59 1.41.59.51 0 1.02-.2 1.41-.59l7.78-7.78 2.81-2.81c.8-.78.8-2.07 0-2.86zM5.41 20L4 18.59l7.72-7.72 1.47 1.35L5.41 20z\"/>\n",
              "  </svg>\n",
              "      </button>\n",
              "\n",
              "\n",
              "\n",
              "    <div id=\"df-20b78352-b583-4ced-afc4-f7d1d1683ed1\">\n",
              "      <button class=\"colab-df-quickchart\" onclick=\"quickchart('df-20b78352-b583-4ced-afc4-f7d1d1683ed1')\"\n",
              "              title=\"Suggest charts.\"\n",
              "              style=\"display:none;\">\n",
              "\n",
              "<svg xmlns=\"http://www.w3.org/2000/svg\" height=\"24px\"viewBox=\"0 0 24 24\"\n",
              "     width=\"24px\">\n",
              "    <g>\n",
              "        <path d=\"M19 3H5c-1.1 0-2 .9-2 2v14c0 1.1.9 2 2 2h14c1.1 0 2-.9 2-2V5c0-1.1-.9-2-2-2zM9 17H7v-7h2v7zm4 0h-2V7h2v10zm4 0h-2v-4h2v4z\"/>\n",
              "    </g>\n",
              "</svg>\n",
              "      </button>\n",
              "    </div>\n",
              "\n",
              "<style>\n",
              "  .colab-df-quickchart {\n",
              "    background-color: #E8F0FE;\n",
              "    border: none;\n",
              "    border-radius: 50%;\n",
              "    cursor: pointer;\n",
              "    display: none;\n",
              "    fill: #1967D2;\n",
              "    height: 32px;\n",
              "    padding: 0 0 0 0;\n",
              "    width: 32px;\n",
              "  }\n",
              "\n",
              "  .colab-df-quickchart:hover {\n",
              "    background-color: #E2EBFA;\n",
              "    box-shadow: 0px 1px 2px rgba(60, 64, 67, 0.3), 0px 1px 3px 1px rgba(60, 64, 67, 0.15);\n",
              "    fill: #174EA6;\n",
              "  }\n",
              "\n",
              "  [theme=dark] .colab-df-quickchart {\n",
              "    background-color: #3B4455;\n",
              "    fill: #D2E3FC;\n",
              "  }\n",
              "\n",
              "  [theme=dark] .colab-df-quickchart:hover {\n",
              "    background-color: #434B5C;\n",
              "    box-shadow: 0px 1px 3px 1px rgba(0, 0, 0, 0.15);\n",
              "    filter: drop-shadow(0px 1px 2px rgba(0, 0, 0, 0.3));\n",
              "    fill: #FFFFFF;\n",
              "  }\n",
              "</style>\n",
              "\n",
              "    <script>\n",
              "      async function quickchart(key) {\n",
              "        const containerElement = document.querySelector('#' + key);\n",
              "        const charts = await google.colab.kernel.invokeFunction(\n",
              "            'suggestCharts', [key], {});\n",
              "      }\n",
              "    </script>\n",
              "\n",
              "      <script>\n",
              "\n",
              "function displayQuickchartButton(domScope) {\n",
              "  let quickchartButtonEl =\n",
              "    domScope.querySelector('#df-20b78352-b583-4ced-afc4-f7d1d1683ed1 button.colab-df-quickchart');\n",
              "  quickchartButtonEl.style.display =\n",
              "    google.colab.kernel.accessAllowed ? 'block' : 'none';\n",
              "}\n",
              "\n",
              "        displayQuickchartButton(document);\n",
              "      </script>\n",
              "      <style>\n",
              "    .colab-df-container {\n",
              "      display:flex;\n",
              "      flex-wrap:wrap;\n",
              "      gap: 12px;\n",
              "    }\n",
              "\n",
              "    .colab-df-convert {\n",
              "      background-color: #E8F0FE;\n",
              "      border: none;\n",
              "      border-radius: 50%;\n",
              "      cursor: pointer;\n",
              "      display: none;\n",
              "      fill: #1967D2;\n",
              "      height: 32px;\n",
              "      padding: 0 0 0 0;\n",
              "      width: 32px;\n",
              "    }\n",
              "\n",
              "    .colab-df-convert:hover {\n",
              "      background-color: #E2EBFA;\n",
              "      box-shadow: 0px 1px 2px rgba(60, 64, 67, 0.3), 0px 1px 3px 1px rgba(60, 64, 67, 0.15);\n",
              "      fill: #174EA6;\n",
              "    }\n",
              "\n",
              "    [theme=dark] .colab-df-convert {\n",
              "      background-color: #3B4455;\n",
              "      fill: #D2E3FC;\n",
              "    }\n",
              "\n",
              "    [theme=dark] .colab-df-convert:hover {\n",
              "      background-color: #434B5C;\n",
              "      box-shadow: 0px 1px 3px 1px rgba(0, 0, 0, 0.15);\n",
              "      filter: drop-shadow(0px 1px 2px rgba(0, 0, 0, 0.3));\n",
              "      fill: #FFFFFF;\n",
              "    }\n",
              "  </style>\n",
              "\n",
              "      <script>\n",
              "        const buttonEl =\n",
              "          document.querySelector('#df-8e9e455d-3f9b-4666-89b6-34e0cf82b56d button.colab-df-convert');\n",
              "        buttonEl.style.display =\n",
              "          google.colab.kernel.accessAllowed ? 'block' : 'none';\n",
              "\n",
              "        async function convertToInteractive(key) {\n",
              "          const element = document.querySelector('#df-8e9e455d-3f9b-4666-89b6-34e0cf82b56d');\n",
              "          const dataTable =\n",
              "            await google.colab.kernel.invokeFunction('convertToInteractive',\n",
              "                                                     [key], {});\n",
              "          if (!dataTable) return;\n",
              "\n",
              "          const docLinkHtml = 'Like what you see? Visit the ' +\n",
              "            '<a target=\"_blank\" href=https://colab.research.google.com/notebooks/data_table.ipynb>data table notebook</a>'\n",
              "            + ' to learn more about interactive tables.';\n",
              "          element.innerHTML = '';\n",
              "          dataTable['output_type'] = 'display_data';\n",
              "          await google.colab.output.renderOutput(dataTable, element);\n",
              "          const docLink = document.createElement('div');\n",
              "          docLink.innerHTML = docLinkHtml;\n",
              "          element.appendChild(docLink);\n",
              "        }\n",
              "      </script>\n",
              "    </div>\n",
              "  </div>\n"
            ]
          },
          "metadata": {},
          "execution_count": 9
        }
      ]
    },
    {
      "cell_type": "code",
      "source": [
        "batch_size=64\n",
        "target_size = (224, 224)"
      ],
      "metadata": {
        "id": "oZQ9O0oF6XDU"
      },
      "execution_count": null,
      "outputs": []
    },
    {
      "cell_type": "code",
      "source": [],
      "metadata": {
        "id": "HdBIGCfRM53h"
      },
      "execution_count": null,
      "outputs": []
    },
    {
      "cell_type": "code",
      "source": [
        "# base_model = VGG16(include_top=False, input_shape=(224,224, 3))\n"
      ],
      "metadata": {
        "id": "HiwiO7ze9VXH"
      },
      "execution_count": null,
      "outputs": []
    },
    {
      "cell_type": "code",
      "source": [
        "# idg = tf.keras.preprocessing.image.ImageDataGenerator(preprocessing_function=tf.keras.applications.vgg16.preprocess_input,\n",
        "#                                                       validation_split=0.1)"
      ],
      "metadata": {
        "id": "9KqJLltw6fcj"
      },
      "execution_count": null,
      "outputs": []
    },
    {
      "cell_type": "code",
      "source": [
        "# data['has_cactus'] = data['has_cactus'].astype(str)"
      ],
      "metadata": {
        "id": "K4erI3nWBGif"
      },
      "execution_count": null,
      "outputs": []
    },
    {
      "cell_type": "code",
      "source": [],
      "metadata": {
        "id": "QCu-SSUTDHqn"
      },
      "execution_count": null,
      "outputs": []
    },
    {
      "cell_type": "code",
      "source": [
        "# train_idg = idg.flow_from_dataframe(data, \"train\", \"id\", \"has_cactus\", target_size = target_size,\n",
        "#                                     batch_size = batch_size, subset = \"training\")"
      ],
      "metadata": {
        "id": "MD8wZTjg6lX5"
      },
      "execution_count": null,
      "outputs": []
    },
    {
      "cell_type": "code",
      "source": [
        "# val_idg = idg.flow_from_dataframe(data, \"train\", \"id\", \"has_cactus\", target_size = target_size,\n",
        "#                                     batch_size = batch_size, subset = \"validation\")"
      ],
      "metadata": {
        "id": "PW7zXdc96zyp"
      },
      "execution_count": null,
      "outputs": []
    },
    {
      "cell_type": "code",
      "source": [
        "data['has_cactus'] = data['has_cactus'].astype(str)\n"
      ],
      "metadata": {
        "id": "4hSMgl7HfnHi"
      },
      "execution_count": null,
      "outputs": []
    },
    {
      "cell_type": "code",
      "source": [
        "idg = tf.keras.preprocessing.image.ImageDataGenerator(rescale = 1/255.0, validation_split=0.1)"
      ],
      "metadata": {
        "id": "nyESrlPENRAF"
      },
      "execution_count": null,
      "outputs": []
    },
    {
      "cell_type": "code",
      "source": [
        "train_idg = idg.flow_from_dataframe(dataframe = data, directory = \"train/\",\n",
        "                                    x_col=\"id\", y_col=\"has_cactus\",\n",
        "                                    target_size=(300, 300),\n",
        "                                    batch_size = batch_size,\n",
        "                                    subset=\"training\")"
      ],
      "metadata": {
        "id": "fqBciWb2NUx4",
        "outputId": "913e77f5-2cf3-464d-9bc4-0fc7be6346dc",
        "colab": {
          "base_uri": "https://localhost:8080/"
        }
      },
      "execution_count": null,
      "outputs": [
        {
          "output_type": "stream",
          "name": "stdout",
          "text": [
            "Found 15750 validated image filenames belonging to 2 classes.\n"
          ]
        }
      ]
    },
    {
      "cell_type": "code",
      "source": [
        "val_idg = idg.flow_from_dataframe(dataframe=data, directory = \"train/\",\n",
        "                                  x_col = \"id\", y_col = \"has_cactus\",\n",
        "                                  target_size=(300, 300),\n",
        "                                  batch_size = batch_size,\n",
        "                                  subset = \"validation\")"
      ],
      "metadata": {
        "colab": {
          "base_uri": "https://localhost:8080/"
        },
        "id": "PnLnxVPAJACi",
        "outputId": "2377588e-d588-491f-e765-348f0c1cfe14"
      },
      "execution_count": null,
      "outputs": [
        {
          "output_type": "stream",
          "name": "stdout",
          "text": [
            "Found 1750 validated image filenames belonging to 2 classes.\n"
          ]
        }
      ]
    },
    {
      "cell_type": "code",
      "source": [
        "model = tf.keras.models.Sequential()\n",
        "model.add(tf.keras.layers.Input((300, 300, 3), name=\"InputLayer\"))\n",
        "# 1st chunk\n",
        "model.add(tf.keras.layers.Conv2D(filters=32, kernel_size=(3,3), strides=(1,1),\n",
        "                                 activation=tf.keras.activations.relu,\n",
        "                                 padding='valid', name=\"Conv1\"))\n",
        "# (300 - 3 + 1)/ 1 = 298 | (298, 298, 32)\n",
        "model.add(tf.keras.layers.MaxPooling2D(pool_size = (2,2), strides = (2,2), name=\"Pool1\"))\n",
        "# (149, 149, 32)\n",
        "\n",
        "# 2nd chunk\n",
        "model.add (tf.keras.layers.Conv2D(filters=64, kernel_size=(3,3), strides=(1,1),\n",
        "                                  activation=tf.keras.activations.relu,\n",
        "                                  padding=\"valid\", name=\"Conv2\"))\n",
        "# (147, 147, 64)\n",
        "model.add(tf.keras.layers.MaxPooling2D(pool_size=(2,2), strides=(2,2), name=\"Pool2\", ))\n",
        "# (73, 73, 64)\n",
        "\n",
        "# 3rd Chunk\n",
        "model.add (tf.keras.layers.Conv2D(filters=64, kernel_size=(3,3), strides=(1,1),\n",
        "                                  activation=tf.keras.activations.relu,\n",
        "                                  padding=\"valid\", name=\"Conv3\"))\n",
        "# (71, 71, 64)\n",
        "model.add(tf.keras.layers.MaxPooling2D(pool_size=(2,2), strides=(2,2), name=\"Pool3\"))\n",
        "# (35, 35, 64)\n",
        "\n",
        "model.add(tf.keras.layers.Flatten(name=\"Flat\"))\n",
        "model.add(tf.keras.layers.Dense(64, activation=tf.keras.activations.relu, name=\"Dense\"))\n",
        "model.add(tf.keras.layers.Dense(2, activation=tf.keras.activations.softmax, name=\"Output\"))\n",
        "\n",
        "model.summary()"
      ],
      "metadata": {
        "id": "ml45IXmaEia5",
        "colab": {
          "base_uri": "https://localhost:8080/"
        },
        "outputId": "7272c949-98ba-41f8-9716-7b0185ee29c4"
      },
      "execution_count": null,
      "outputs": [
        {
          "output_type": "stream",
          "name": "stdout",
          "text": [
            "Model: \"sequential_3\"\n",
            "_________________________________________________________________\n",
            " Layer (type)                Output Shape              Param #   \n",
            "=================================================================\n",
            " Conv1 (Conv2D)              (None, 298, 298, 32)      896       \n",
            "                                                                 \n",
            " Pool1 (MaxPooling2D)        (None, 149, 149, 32)      0         \n",
            "                                                                 \n",
            " Conv2 (Conv2D)              (None, 147, 147, 64)      18496     \n",
            "                                                                 \n",
            " Pool2 (MaxPooling2D)        (None, 73, 73, 64)        0         \n",
            "                                                                 \n",
            " Conv3 (Conv2D)              (None, 71, 71, 64)        36928     \n",
            "                                                                 \n",
            " Pool3 (MaxPooling2D)        (None, 35, 35, 64)        0         \n",
            "                                                                 \n",
            " Flat (Flatten)              (None, 78400)             0         \n",
            "                                                                 \n",
            " Dense (Dense)               (None, 64)                5017664   \n",
            "                                                                 \n",
            " Output (Dense)              (None, 2)                 130       \n",
            "                                                                 \n",
            "=================================================================\n",
            "Total params: 5,074,114\n",
            "Trainable params: 5,074,114\n",
            "Non-trainable params: 0\n",
            "_________________________________________________________________\n"
          ]
        }
      ]
    },
    {
      "cell_type": "code",
      "source": [
        "del model"
      ],
      "metadata": {
        "id": "h6S0AXDiLHv4"
      },
      "execution_count": null,
      "outputs": []
    },
    {
      "cell_type": "code",
      "source": [
        " model.compile(optimizer=tf.keras.optimizers.SGD(),\n",
        "              loss=tf.keras.losses.categorical_crossentropy,\n",
        "              metrics=[\"acc\"])"
      ],
      "metadata": {
        "id": "v5iYR8JwVM0B"
      },
      "execution_count": null,
      "outputs": []
    },
    {
      "cell_type": "code",
      "source": [
        "model.fit(train_idg,batch_size=batch_size, epochs=10, validation_data=val_idg)\n"
      ],
      "metadata": {
        "colab": {
          "base_uri": "https://localhost:8080/"
        },
        "id": "JTI2d1SLVVhz",
        "outputId": "f45aeea5-f856-4742-acea-5df9edcb6bdf"
      },
      "execution_count": null,
      "outputs": [
        {
          "output_type": "stream",
          "name": "stdout",
          "text": [
            "Epoch 1/10\n",
            "247/247 [==============================] - 59s 230ms/step - loss: 0.5019 - acc: 0.7533 - val_loss: 0.4413 - val_acc: 0.7394\n",
            "Epoch 2/10\n",
            "247/247 [==============================] - 56s 225ms/step - loss: 0.3722 - acc: 0.8221 - val_loss: 0.2441 - val_acc: 0.9131\n",
            "Epoch 3/10\n",
            "247/247 [==============================] - 55s 224ms/step - loss: 0.2298 - acc: 0.9134 - val_loss: 0.2095 - val_acc: 0.9149\n",
            "Epoch 4/10\n",
            "247/247 [==============================] - 55s 222ms/step - loss: 0.1809 - acc: 0.9344 - val_loss: 0.1442 - val_acc: 0.9514\n",
            "Epoch 5/10\n",
            "247/247 [==============================] - 56s 224ms/step - loss: 0.1974 - acc: 0.9326 - val_loss: 0.1659 - val_acc: 0.9371\n",
            "Epoch 6/10\n",
            "247/247 [==============================] - 57s 228ms/step - loss: 0.1497 - acc: 0.9453 - val_loss: 0.1473 - val_acc: 0.9474\n",
            "Epoch 7/10\n",
            "247/247 [==============================] - 55s 222ms/step - loss: 0.1363 - acc: 0.9518 - val_loss: 0.1199 - val_acc: 0.9629\n",
            "Epoch 8/10\n",
            "247/247 [==============================] - 55s 224ms/step - loss: 0.1256 - acc: 0.9546 - val_loss: 0.1195 - val_acc: 0.9640\n",
            "Epoch 9/10\n",
            "247/247 [==============================] - 55s 221ms/step - loss: 0.1467 - acc: 0.9498 - val_loss: 0.1286 - val_acc: 0.9537\n",
            "Epoch 10/10\n",
            "247/247 [==============================] - 56s 224ms/step - loss: 0.1184 - acc: 0.9573 - val_loss: 0.1339 - val_acc: 0.9509\n"
          ]
        },
        {
          "output_type": "execute_result",
          "data": {
            "text/plain": [
              "<keras.callbacks.History at 0x7c356a1cd4b0>"
            ]
          },
          "metadata": {},
          "execution_count": 29
        }
      ]
    },
    {
      "cell_type": "code",
      "source": [
        "plt.plot(model.history.history[\"acc\"], label = \"Training Acc\")\n",
        "plt.plot(model.history.history[\"val_acc\"], label = \"Val. Acc\")\n",
        "plt.legend()\n",
        "plt.xlabel(\"Epochs\")\n",
        "plt.ylabel(\"Accuracy\")\n",
        "plt.title(\"Accuracy of Model\")"
      ],
      "metadata": {
        "id": "KHdXsbYNcEhu",
        "outputId": "63cbaceb-791b-4c01-aab3-7c9b6580256e",
        "colab": {
          "base_uri": "https://localhost:8080/",
          "height": 489
        }
      },
      "execution_count": null,
      "outputs": [
        {
          "output_type": "execute_result",
          "data": {
            "text/plain": [
              "Text(0.5, 1.0, 'Accuracy of Model')"
            ]
          },
          "metadata": {},
          "execution_count": 30
        },
        {
          "output_type": "display_data",
          "data": {
            "text/plain": [
              "<Figure size 640x480 with 1 Axes>"
            ],
            "image/png": "[encoded data removed]"
          },
          "metadata": {}
        }
      ]
    }
  ]
}