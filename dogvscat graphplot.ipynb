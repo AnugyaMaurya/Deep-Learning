{
  "cells": [
    {
      "cell_type": "code",
      "execution_count": 2,
      "metadata": {
        "colab": {
          "base_uri": "https://localhost:8080/",
          "height": 328
        },
        "id": "VEvwWENjvs6B",
        "outputId": "47d445a0-ac9c-4e38-db23-f6523bcf0339"
      },
      "outputs": [
        {
          "output_type": "error",
          "ename": "OSError",
          "evalue": "ignored",
          "traceback": [
            "\u001b[0;31m---------------------------------------------------------------------------\u001b[0m",
            "\u001b[0;31mOSError\u001b[0m                                   Traceback (most recent call last)",
            "\u001b[0;32m<ipython-input-2-2e5e3441a2d1>\u001b[0m in \u001b[0;36m<cell line: 1>\u001b[0;34m()\u001b[0m\n\u001b[0;32m----> 1\u001b[0;31m \u001b[0;32mimport\u001b[0m \u001b[0mkaggle\u001b[0m\u001b[0;34m\u001b[0m\u001b[0;34m\u001b[0m\u001b[0m\n\u001b[0m",
            "\u001b[0;32m/usr/local/lib/python3.10/dist-packages/kaggle/__init__.py\u001b[0m in \u001b[0;36m<module>\u001b[0;34m\u001b[0m\n\u001b[1;32m     21\u001b[0m \u001b[0;34m\u001b[0m\u001b[0m\n\u001b[1;32m     22\u001b[0m \u001b[0mapi\u001b[0m \u001b[0;34m=\u001b[0m \u001b[0mKaggleApi\u001b[0m\u001b[0;34m(\u001b[0m\u001b[0mApiClient\u001b[0m\u001b[0;34m(\u001b[0m\u001b[0;34m)\u001b[0m\u001b[0;34m)\u001b[0m\u001b[0;34m\u001b[0m\u001b[0;34m\u001b[0m\u001b[0m\n\u001b[0;32m---> 23\u001b[0;31m \u001b[0mapi\u001b[0m\u001b[0;34m.\u001b[0m\u001b[0mauthenticate\u001b[0m\u001b[0;34m(\u001b[0m\u001b[0;34m)\u001b[0m\u001b[0;34m\u001b[0m\u001b[0;34m\u001b[0m\u001b[0m\n\u001b[0m",
            "\u001b[0;32m/usr/local/lib/python3.10/dist-packages/kaggle/api/kaggle_api_extended.py\u001b[0m in \u001b[0;36mauthenticate\u001b[0;34m(self)\u001b[0m\n\u001b[1;32m    162\u001b[0m                 \u001b[0mconfig_data\u001b[0m \u001b[0;34m=\u001b[0m \u001b[0mself\u001b[0m\u001b[0;34m.\u001b[0m\u001b[0mread_config_file\u001b[0m\u001b[0;34m(\u001b[0m\u001b[0mconfig_data\u001b[0m\u001b[0;34m)\u001b[0m\u001b[0;34m\u001b[0m\u001b[0;34m\u001b[0m\u001b[0m\n\u001b[1;32m    163\u001b[0m             \u001b[0;32melse\u001b[0m\u001b[0;34m:\u001b[0m\u001b[0;34m\u001b[0m\u001b[0;34m\u001b[0m\u001b[0m\n\u001b[0;32m--> 164\u001b[0;31m                 raise IOError('Could not find {}. Make sure it\\'s located in'\n\u001b[0m\u001b[1;32m    165\u001b[0m                               ' {}. Or use the environment method.'.format(\n\u001b[1;32m    166\u001b[0m                                   self.config_file, self.config_dir))\n",
            "\u001b[0;31mOSError\u001b[0m: Could not find kaggle.json. Make sure it's located in /root/.kaggle. Or use the environment method."
          ]
        }
      ],
      "source": [
        "import kaggle"
      ]
    },
    {
      "cell_type": "code",
      "execution_count": 3,
      "metadata": {
        "id": "jQ_TQb1dvzH5"
      },
      "outputs": [],
      "source": [
        "! mv kaggle.json /root/.kaggle"
      ]
    },
    {
      "cell_type": "code",
      "execution_count": 4,
      "metadata": {
        "colab": {
          "base_uri": "https://localhost:8080/"
        },
        "id": "991FP2Lfv2qb",
        "outputId": "e12f5358-d8c0-4a76-daf5-921ff69cbd3f"
      },
      "outputs": [
        {
          "output_type": "stream",
          "name": "stdout",
          "text": [
            "Warning: Your Kaggle API key is readable by other users on this system! To fix this, you can run 'chmod 600 /root/.kaggle/kaggle.json'\n"
          ]
        }
      ],
      "source": [
        "import kaggle"
      ]
    },
    {
      "cell_type": "code",
      "execution_count": 5,
      "metadata": {
        "colab": {
          "base_uri": "https://localhost:8080/"
        },
        "id": "tF3bWsCqwIGZ",
        "outputId": "ca387c28-bef8-495d-fc9b-4432c83029ef"
      },
      "outputs": [
        {
          "output_type": "stream",
          "name": "stdout",
          "text": [
            "Warning: Your Kaggle API key is readable by other users on this system! To fix this, you can run 'chmod 600 /root/.kaggle/kaggle.json'\n",
            "Downloading dogs-vs-cats.zip to /content\n",
            " 99% 807M/812M [00:05<00:00, 32.2MB/s]\n",
            "100% 812M/812M [00:06<00:00, 139MB/s] \n"
          ]
        }
      ],
      "source": [
        "! kaggle competitions download -c dogs-vs-cats"
      ]
    },
    {
      "cell_type": "code",
      "execution_count": 6,
      "metadata": {
        "id": "y7ogw-eDwKVK"
      },
      "outputs": [],
      "source": [
        "! unzip -q dogs-vs-cats.zip"
      ]
    },
    {
      "cell_type": "code",
      "execution_count": 7,
      "metadata": {
        "id": "uAxaLM3ywOGG"
      },
      "outputs": [],
      "source": [
        "! unzip -q train.zip"
      ]
    },
    {
      "cell_type": "code",
      "execution_count": 8,
      "metadata": {
        "id": "oUmtOtcMwT72"
      },
      "outputs": [],
      "source": [
        "import numpy as np\n",
        "import pandas as pd\n",
        "import matplotlib.pyplot as plt\n",
        "import tensorflow as tf"
      ]
    },
    {
      "cell_type": "code",
      "execution_count": 9,
      "metadata": {
        "id": "dTZXvRoMwWsj"
      },
      "outputs": [],
      "source": [
        "import os\n",
        "os.mkdir(\"train_data\")\n",
        "os.mkdir(\"train_data/cat\")\n",
        "os.mkdir(\"train_data/dog\")"
      ]
    },
    {
      "cell_type": "code",
      "execution_count": 10,
      "metadata": {
        "id": "yb2i1_FGwZQM"
      },
      "outputs": [],
      "source": [
        "import shutil\n",
        "source_folder = \"train/\"\n",
        "dest_dog = \"train_data/dog\"\n",
        "dest_cat = \"train_data/cat\""
      ]
    },
    {
      "cell_type": "code",
      "execution_count": 11,
      "metadata": {
        "id": "HZONOP8twicf"
      },
      "outputs": [],
      "source": [
        "for imageName in os.listdir(source_folder):\n",
        "  if \"dog\" in imageName:\n",
        "    shutil.copy(source_folder + imageName, dest_dog)\n",
        "  else:\n",
        "    shutil.copy(source_folder + imageName , dest_cat)"
      ]
    },
    {
      "cell_type": "code",
      "execution_count": 12,
      "metadata": {
        "colab": {
          "base_uri": "https://localhost:8080/"
        },
        "id": "mSO2KsXLwlDC",
        "outputId": "98f9dbe9-e5d8-4585-e954-44e23c5bea31"
      },
      "outputs": [
        {
          "output_type": "execute_result",
          "data": {
            "text/plain": [
              "12500"
            ]
          },
          "metadata": {},
          "execution_count": 12
        }
      ],
      "source": [
        "len(os.listdir(\"train_data/dog\"))"
      ]
    },
    {
      "cell_type": "code",
      "execution_count": 13,
      "metadata": {
        "id": "pG6AH1TmwpB5"
      },
      "outputs": [],
      "source": [
        "idg = tf.keras.preprocessing.image.ImageDataGenerator(validation_split=0.1, rescale=1/255.0)"
      ]
    },
    {
      "cell_type": "code",
      "execution_count": 14,
      "metadata": {
        "colab": {
          "base_uri": "https://localhost:8080/"
        },
        "id": "78aTb9UVwuYB",
        "outputId": "e85efffa-53bc-41a8-c046-0e665ee0f869"
      },
      "outputs": [
        {
          "output_type": "stream",
          "name": "stdout",
          "text": [
            "Found 22500 images belonging to 2 classes.\n"
          ]
        }
      ],
      "source": [
        "batch_size = 512\n",
        "train_idg = idg.flow_from_directory(directory=\"train_data\",\n",
        "                                    target_size=(150, 150),\n",
        "                                    batch_size=batch_size,\n",
        "                                    subset=\"training\")"
      ]
    },
    {
      "cell_type": "code",
      "execution_count": 15,
      "metadata": {
        "colab": {
          "base_uri": "https://localhost:8080/"
        },
        "id": "hJcg9b0Jw2VK",
        "outputId": "82dace57-7a8a-4fb3-8a82-fbb22f1b2ba1"
      },
      "outputs": [
        {
          "output_type": "stream",
          "name": "stdout",
          "text": [
            "Found 2500 images belonging to 2 classes.\n"
          ]
        }
      ],
      "source": [
        "val_idg = idg.flow_from_directory(directory=\"train_data\",\n",
        "                                  target_size=(150, 150),\n",
        "                                  batch_size=batch_size,\n",
        "                                  subset='validation')"
      ]
    },
    {
      "cell_type": "code",
      "execution_count": 16,
      "metadata": {
        "colab": {
          "base_uri": "https://localhost:8080/"
        },
        "id": "Z5MyHuDQw5BJ",
        "outputId": "6a805391-aa13-47d8-af92-3b72d0c66f00"
      },
      "outputs": [
        {
          "output_type": "stream",
          "name": "stdout",
          "text": [
            "Model: \"sequential\"\n",
            "_________________________________________________________________\n",
            " Layer (type)                Output Shape              Param #   \n",
            "=================================================================\n",
            " Flat (Flatten)              (None, 67500)             0         \n",
            "                                                                 \n",
            " FirstLayer (Dense)          (None, 512)               34560512  \n",
            "                                                                 \n",
            " SecondLayer (Dense)         (None, 64)                32832     \n",
            "                                                                 \n",
            " OutputLayer (Dense)         (None, 2)                 130       \n",
            "                                                                 \n",
            "=================================================================\n",
            "Total params: 34,593,474\n",
            "Trainable params: 34,593,474\n",
            "Non-trainable params: 0\n",
            "_________________________________________________________________\n"
          ]
        }
      ],
      "source": [
        "model = tf.keras.models.Sequential()\n",
        "model.add(tf.keras.layers.Input((150, 150, 3), name=\"InputLayer\"))\n",
        "model.add(tf.keras.layers.Flatten(name=\"Flat\"))\n",
        "model.add(tf.keras.layers.Dense(512, activation=tf.keras.activations.relu, name=\"FirstLayer\"))\n",
        "model.add(tf.keras.layers.Dense(64, activation=tf.keras.activations.relu, name=\"SecondLayer\"))\n",
        "model.add(tf.keras.layers.Dense(2, activation=tf.keras.activations.softmax, name=\"OutputLayer\"))\n",
        "model.summary()"
      ]
    },
    {
      "cell_type": "code",
      "execution_count": 17,
      "metadata": {
        "id": "rgcq2fiVw7oe"
      },
      "outputs": [],
      "source": [
        "model.compile(tf.keras.optimizers.SGD(), tf.keras.losses.categorical_crossentropy,\n",
        "              metrics = ['acc'])"
      ]
    },
    {
      "cell_type": "code",
      "execution_count": 18,
      "metadata": {
        "colab": {
          "base_uri": "https://localhost:8080/"
        },
        "id": "VNknFefWw-cB",
        "outputId": "160d8be5-afb1-4c2a-aca3-4b62b2bd4720"
      },
      "outputs": [
        {
          "output_type": "stream",
          "name": "stdout",
          "text": [
            "Epoch 1/10\n",
            "44/44 [==============================] - 143s 3s/step - loss: 0.8083 - acc: 0.5295 - val_loss: 0.6839 - val_acc: 0.5816\n",
            "Epoch 2/10\n",
            "44/44 [==============================] - 153s 3s/step - loss: 0.6836 - acc: 0.5567 - val_loss: 0.6791 - val_acc: 0.5884\n",
            "Epoch 3/10\n",
            "44/44 [==============================] - 142s 3s/step - loss: 0.6774 - acc: 0.5796 - val_loss: 0.6767 - val_acc: 0.5640\n",
            "Epoch 4/10\n",
            "44/44 [==============================] - 140s 3s/step - loss: 0.6750 - acc: 0.5850 - val_loss: 0.6703 - val_acc: 0.5916\n",
            "Epoch 5/10\n",
            "44/44 [==============================] - 150s 3s/step - loss: 0.6646 - acc: 0.5988 - val_loss: 0.6837 - val_acc: 0.5720\n",
            "Epoch 6/10\n",
            "44/44 [==============================] - 147s 3s/step - loss: 0.6697 - acc: 0.5899 - val_loss: 0.7251 - val_acc: 0.5048\n",
            "Epoch 7/10\n",
            "44/44 [==============================] - 141s 3s/step - loss: 0.6618 - acc: 0.6039 - val_loss: 0.6577 - val_acc: 0.6060\n",
            "Epoch 8/10\n",
            "44/44 [==============================] - 151s 3s/step - loss: 0.6628 - acc: 0.5989 - val_loss: 0.6593 - val_acc: 0.6072\n",
            "Epoch 9/10\n",
            "44/44 [==============================] - 149s 3s/step - loss: 0.6577 - acc: 0.6103 - val_loss: 0.6596 - val_acc: 0.5980\n",
            "Epoch 10/10\n",
            "44/44 [==============================] - 156s 4s/step - loss: 0.6504 - acc: 0.6194 - val_loss: 0.6636 - val_acc: 0.5940\n"
          ]
        }
      ],
      "source": [
        "rel=model.fit(train_idg, batch_size=batch_size, validation_data=val_idg, epochs=10)"
      ]
    },
    {
      "cell_type": "code",
      "execution_count": 19,
      "metadata": {
        "colab": {
          "base_uri": "https://localhost:8080/"
        },
        "id": "AcX3ApdPxAg8",
        "outputId": "4aed18f3-031c-4b90-c5ed-78a7c7dd23ba"
      },
      "outputs": [
        {
          "output_type": "stream",
          "name": "stdout",
          "text": [
            "Model: \"sequential_1\"\n",
            "_________________________________________________________________\n",
            " Layer (type)                Output Shape              Param #   \n",
            "=================================================================\n",
            " Flat (Flatten)              (None, 67500)             0         \n",
            "                                                                 \n",
            " FirstLayer (Dense)          (None, 512)               34560512  \n",
            "                                                                 \n",
            " SecondLayer (Dense)         (None, 64)                32832     \n",
            "                                                                 \n",
            " OutputLayer (Dense)         (None, 2)                 130       \n",
            "                                                                 \n",
            "=================================================================\n",
            "Total params: 34,593,474\n",
            "Trainable params: 34,593,474\n",
            "Non-trainable params: 0\n",
            "_________________________________________________________________\n"
          ]
        }
      ],
      "source": [
        "models = tf.keras.models.Sequential()\n",
        "models.add(tf.keras.layers.Input((150, 150, 3), name=\"InputLayer\"))\n",
        "models.add(tf.keras.layers.Flatten(name=\"Flat\"))\n",
        "models.add(tf.keras.layers.Dense(512, activation=tf.keras.activations.sigmoid, name=\"FirstLayer\"))\n",
        "models.add(tf.keras.layers.Dense(64, activation=tf.keras.activations.sigmoid, name=\"SecondLayer\"))\n",
        "models.add(tf.keras.layers.Dense(2, activation=tf.keras.activations.softmax, name=\"OutputLayer\"))\n",
        "models.summary()"
      ]
    },
    {
      "cell_type": "code",
      "execution_count": 20,
      "metadata": {
        "id": "O6clvppw1tn8"
      },
      "outputs": [],
      "source": [
        "models.compile(tf.keras.optimizers.SGD(), tf.keras.losses.categorical_crossentropy,\n",
        "              metrics = ['acc'])"
      ]
    },
    {
      "cell_type": "code",
      "execution_count": 21,
      "metadata": {
        "colab": {
          "base_uri": "https://localhost:8080/"
        },
        "id": "Tmg698131zJF",
        "outputId": "2c713b07-663f-4e03-b3ed-0e7a33186280"
      },
      "outputs": [
        {
          "output_type": "stream",
          "name": "stdout",
          "text": [
            "Epoch 1/10\n",
            "44/44 [==============================] - 155s 3s/step - loss: 0.6966 - acc: 0.5163 - val_loss: 0.6906 - val_acc: 0.5248\n",
            "Epoch 2/10\n",
            "44/44 [==============================] - 141s 3s/step - loss: 0.6875 - acc: 0.5477 - val_loss: 0.6876 - val_acc: 0.5284\n",
            "Epoch 3/10\n",
            "44/44 [==============================] - 149s 3s/step - loss: 0.6842 - acc: 0.5649 - val_loss: 0.6843 - val_acc: 0.5668\n",
            "Epoch 4/10\n",
            "44/44 [==============================] - 151s 3s/step - loss: 0.6815 - acc: 0.5705 - val_loss: 0.6839 - val_acc: 0.5748\n",
            "Epoch 5/10\n",
            "44/44 [==============================] - 152s 3s/step - loss: 0.6792 - acc: 0.5785 - val_loss: 0.6802 - val_acc: 0.5648\n",
            "Epoch 6/10\n",
            "44/44 [==============================] - 151s 3s/step - loss: 0.6774 - acc: 0.5835 - val_loss: 0.6785 - val_acc: 0.5832\n",
            "Epoch 7/10\n",
            "44/44 [==============================] - 142s 3s/step - loss: 0.6759 - acc: 0.5871 - val_loss: 0.6767 - val_acc: 0.5864\n",
            "Epoch 8/10\n",
            "44/44 [==============================] - 149s 3s/step - loss: 0.6741 - acc: 0.5905 - val_loss: 0.6757 - val_acc: 0.5876\n",
            "Epoch 9/10\n",
            "44/44 [==============================] - 149s 3s/step - loss: 0.6726 - acc: 0.5918 - val_loss: 0.6745 - val_acc: 0.5908\n",
            "Epoch 10/10\n",
            "44/44 [==============================] - 140s 3s/step - loss: 0.6716 - acc: 0.5928 - val_loss: 0.6734 - val_acc: 0.5944\n"
          ]
        }
      ],
      "source": [
        "sig=models.fit(train_idg, batch_size=batch_size, validation_data=val_idg, epochs=10)"
      ]
    },
    {
      "cell_type": "code",
      "execution_count": 23,
      "metadata": {
        "colab": {
          "base_uri": "https://localhost:8080/",
          "height": 472
        },
        "id": "zrz2qQ7n125J",
        "outputId": "edba031d-41b4-46c3-d44d-40206044a99b"
      },
      "outputs": [
        {
          "output_type": "display_data",
          "data": {
            "text/plain": [
              "<Figure size 640x480 with 1 Axes>"
            ],
            "image/png": "[encoded data removed]"
          },
          "metadata": {}
        }
      ],
      "source": [
        "import numpy as np\n",
        "import matplotlib.pyplot as plt\n",
        "plt.plot(sig.history['loss'], label='Sigmoid Model')\n",
        "plt.plot(rel.history['loss'], label='relu Model')\n",
        "\n",
        "plt.title('Loss vs. Epoch')\n",
        "plt.xlabel('Epoch')\n",
        "plt.ylabel('Loss')\n",
        "plt.legend()\n",
        "plt.show()\n"
      ]
    },
    {
      "cell_type": "code",
      "execution_count": 22,
      "metadata": {
        "colab": {
          "base_uri": "https://localhost:8080/",
          "height": 447
        },
        "id": "ECqucZCM6_iX",
        "outputId": "cb16907d-0ada-4c6a-ac98-14bfeb17710c"
      },
      "outputs": [
        {
          "output_type": "execute_result",
          "data": {
            "text/plain": [
              "[<matplotlib.lines.Line2D at 0x7f30f1d58280>]"
            ]
          },
          "metadata": {},
          "execution_count": 22
        },
        {
          "output_type": "display_data",
          "data": {
            "text/plain": [
              "<Figure size 640x480 with 1 Axes>"
            ],
            "image/png": "[encoded data removed]"
          },
          "metadata": {}
        }
      ],
      "source": [
        "plt.plot(rel.history['loss'], label='relu Model')\n"
      ]
    },
    {
      "cell_type": "code",
      "execution_count": null,
      "metadata": {
        "id": "X9AFdmxO7P8p"
      },
      "outputs": [],
      "source": []
    }
  ],
  "metadata": {
    "colab": {
      "provenance": []
    },
    "kernelspec": {
      "display_name": "Python 3",
      "name": "python3"
    },
    "language_info": {
      "name": "python"
    }
  },
  "nbformat": 4,
  "nbformat_minor": 0
}
